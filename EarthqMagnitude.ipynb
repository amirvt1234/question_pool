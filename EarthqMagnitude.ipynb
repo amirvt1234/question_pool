{
 "cells": [
  {
   "cell_type": "code",
   "execution_count": 1,
   "metadata": {
    "collapsed": false
   },
   "outputs": [
    {
     "name": "stdout",
     "output_type": "stream",
     "text": [
      "Populating the interactive namespace from numpy and matplotlib\n"
     ]
    }
   ],
   "source": [
    "%pylab inline\n",
    "import matplotlib\n",
    "#import odespy\n",
    "matplotlib.rcParams.update({'font.size': 18,'legend.fontsize':15,'font.family': 'serif'})\n",
    "#from scipy.optimize import curve_fit\n",
    "#from scipy import integrate\n",
    "import warnings\n",
    "from random import randint\n",
    "warnings.filterwarnings('ignore')"
   ]
  },
  {
   "cell_type": "code",
   "execution_count": 2,
   "metadata": {
    "collapsed": false
   },
   "outputs": [],
   "source": [
    "def seismoment(mmw):\n",
    "    mmo = 10**(3./2.*(mmw+10.7))\n",
    "    return mmo"
   ]
  },
  {
   "cell_type": "code",
   "execution_count": 3,
   "metadata": {
    "collapsed": false
   },
   "outputs": [
    {
     "name": "stdout",
     "output_type": "stream",
     "text": [
      "[ 3.8         4.14285714  4.48571429  4.82857143  5.17142857  5.51428571\n",
      "  5.85714286  6.2         6.54285714  6.88571429  7.22857143  7.57142857\n",
      "  7.91428571  8.25714286  8.6       ]\n"
     ]
    }
   ],
   "source": [
    "mags=linspace(3.8,8.6,15)\n",
    "print mags"
   ]
  },
  {
   "cell_type": "code",
   "execution_count": 4,
   "metadata": {
    "collapsed": false
   },
   "outputs": [
    {
     "name": "stdout",
     "output_type": "stream",
     "text": [
      "4.0 4.8 16.0\n"
     ]
    }
   ],
   "source": [
    "nx=20\n",
    "data = []\n",
    "for i in range(nx):\n",
    "    base=random.choice(mags, 1, replace=False)\n",
    "    baseeq=floor(base)[0]\n",
    "    eq2=round(base,1)\n",
    "    eq1=baseeq+1\n",
    "    #print baseeq,eq1,eq2\n",
    "    mo1=seismoment(baseeq)\n",
    "    mo2=seismoment(eq1)\n",
    "    mo3=seismoment(eq2)\n",
    "    data.append([baseeq, eq2, round(mo3/mo1,0), round(mo2/mo1,0)-0.1, round(mo2/mo1,0)+0.1])\n",
    "#    textfile='question_text'+str(\"%03d\" % (i,))+'.txt'\n",
    "#    text_file = open(textfile, \"w\")\n",
    "#    with open(textfile, \"w\") as text_file:\n",
    "#        text_file.write(\"\\n\")\n",
    "#        text_file.write(\"\\n\")\n",
    "#        text_file.write(\"\\n\")\n",
    "#        text_file.write(\"Begin copy!\\n\")\n",
    "#        text_file.write(\"***********************************************************\\n\")\n",
    "#        text_file.write(\"<strong>From earthquake magnitude to energy.</strong><br />\\n\")\n",
    "#        text_file.write(\"We said in class that the Seismic Moment M<sub>o</sub> is linked to the energy that is released during an earthquake.<br />\\n\")\n",
    "#        text_file.write(\"<br />\\n\")\n",
    "#        text_file.write(\"Employ the following equation:<br />\\n\")\n",
    "#        text_file.write(\"\\t M<sub>o</sub> = 10<sup>(1.5*(M<sub>w</sub>+10.7))</sup>.<br />\\n\")\n",
    "#        text_file.write(\"to calculate:<br />\\n\")\n",
    "#        text_file.write(\"\\t-the ratio of seismic moments between EQ1 and EQ2 (Case 1): M<sub>o</sub>(E2)/M<sub>o</sub>(E1),<br />\\n\")\n",
    "#        text_file.write(\"\\t-the ratio of seismic moments between EQ1 and EQ3 (Case 2): M<sub>o</sub>(E3)/M<sub>o</sub>(E1).<br />\\n\")\n",
    "#        text_file.write(\"<br />\\n\")\n",
    "#        text_file.write(\"Please use at least 5 decimal places for M<sub>o</sub> in the calculation of the two cases.<br />\\n\")\n",
    "#        text_file.write(\"<br />\\n\")\n",
    "#        text_file.write(\"EQ1 = %3.1f<br />\\n\" % (baseeq))\n",
    "#        text_file.write(\"EQ2 = %3.1f<br />\\n\" % (eq1))\n",
    "#        text_file.write(\"EQ3 = %3.1f<br />\\n\" % (eq2))\n",
    "#        text_file.write(\"<br />\\n\")\n",
    "#        text_file.write(\"<br />\\n\")\n",
    "#        text_file.write(\"Case 1 = {%3.1f|%3.1f}<br />\\n\" % (round(mo2/mo1,0)-0.8,round(mo2/mo1,0)+0.8))\n",
    "#        text_file.write(\"Case 2 = {%3.1f|%3.1f}<br />\\n\" % (round(mo3/mo1,0)-0.8,round(mo3/mo1,0)+0.8))\n",
    "#        text_file.write(\"***********************************************************\\n\")\n",
    "#text_file.close()\n",
    "print data[0][0], data[0][1], data[0][2]"
   ]
  },
  {
   "cell_type": "code",
   "execution_count": null,
   "metadata": {
    "collapsed": false
   },
   "outputs": [],
   "source": [
    "from mako.template import Template\n",
    "\n",
    "header = \"\"\"<?xml version=\"1.0\" encoding=\"UTF-8\"?>\n",
    "<questestinterop xmlns=\"http://www.imsglobal.org/xsd/ims_qtiasiv1p2\" xmlns:xsi=\"http://www.w3.org/2001/XMLSchema-instance\" xsi:schemaLocation=\"http://www.imsglobal.org/xsd/ims_qtiasiv1p2 http://www.imsglobal.org/xsd/ims_qtiasiv1p2p1.xsd\">\n",
    "  <assessment ident=\"i15dlf873545s7648e8b8o68da20e9ede\" title=\"EarthqMagnitude\">\n",
    "    <qtimetadata>\n",
    "      <qtimetadatafield>\n",
    "        <fieldlabel>cc_maxattempts</fieldlabel>\n",
    "        <fieldentry>1</fieldentry>\n",
    "      </qtimetadatafield>\n",
    "    </qtimetadata>\n",
    "    <section ident=\"root_section\">\n",
    "\"\"\"\n",
    "\n",
    "footer = \"\"\"\n",
    "    </section>\n",
    "  </assessment>\n",
    "</questestinterop>\n",
    "\"\"\"\n",
    "\n",
    "\n",
    "tpl = Template(\"\"\"\n",
    "      <item ident=\"${ QID }\" title=\"From earthquake magnitude to energy ${ QNO }\">\n",
    "        <itemmetadata>\n",
    "          <qtimetadata>\n",
    "            <qtimetadatafield>\n",
    "              <fieldlabel>question_type</fieldlabel>\n",
    "              <fieldentry>numerical_question</fieldentry>\n",
    "            </qtimetadatafield>\n",
    "            <qtimetadatafield>\n",
    "              <fieldlabel>points_possible</fieldlabel>\n",
    "              <fieldentry>1.0</fieldentry>\n",
    "            </qtimetadatafield>\n",
    "            <qtimetadatafield>\n",
    "              <fieldlabel>assessment_question_identifierref</fieldlabel>\n",
    "              <fieldentry>${ FID }</fieldentry>\n",
    "            </qtimetadatafield>\n",
    "          </qtimetadata>\n",
    "        </itemmetadata>\n",
    "        <presentation>\n",
    "          <material>\n",
    "            <mattext texttype=\"text/html\">&lt;div&gt;\n",
    "&lt;p&gt;We said in class that the Seismic Moment &lt;em&gt;M&lt;/em&gt;&lt;sub&gt;&lt;em&gt;o&lt;/em&gt; &lt;/sub&gt;is linked to the energy that is released during an earthquake.&lt;/p&gt;\n",
    "&lt;p&gt;Employ the following equation:&lt;/p&gt;\n",
    "&lt;p&gt;&lt;img class=\"equation_image\" style=\"display: block; margin-left: auto; margin-right: auto;\" title=\"M_o=10^{1.5\\left(M_w+10.7\\right)}\" src=\"https://canvas.vt.edu/equation_images/M_o%253D10%255E%257B1.5%255Cleft%2528M_w%2B10.7%255Cright%2529%257D\" alt=\"M_o=10^{1.5\\left(M_w+10.7\\right)}\"&gt;&lt;/p&gt;\n",
    "&lt;p&gt;to calculate the ratio of seismic moments between EQ1 and EQ2:&lt;/p&gt;\n",
    "&lt;p style=\"text-align: center;\"&gt;&lt;img class=\"equation_image\" title=\"\\frac{M_o\\left(EQ2\\right)}{M_o\\left(EQ1\\right)}=\\:?\" src=\"https://canvas.vt.edu/equation_images/%255Cfrac%257BM_o%255Cleft%2528EQ2%255Cright%2529%257D%257BM_o%255Cleft%2528EQ1%255Cright%2529%257D%253D%255C%253A%253F\" alt=\"\\frac{M_o\\left(EQ2\\right)}{M_o\\left(EQ1\\right)}=\\:?\"&gt;&lt;/p&gt;\n",
    "&lt;p style=\"text-align: left;\"&gt;Use at least 5 decimal places in your calculations; &lt;em&gt;M&lt;sub&gt;w&lt;/sub&gt;(EQ1) = &lt;/em&gt;4&lt;em&gt;, M&lt;sub&gt;w&lt;/sub&gt;(EQ2) = &lt;/em&gt;8&lt;/p&gt;\n",
    "&lt;/div&gt;</mattext>\n",
    "          </material>\n",
    "          <response_str ident=\"response1\" rcardinality=\"Single\">\n",
    "            <render_fib fibtype=\"Decimal\">\n",
    "              <response_label ident=\"answer1\"/>\n",
    "            </render_fib>\n",
    "          </response_str>\n",
    "        </presentation>\n",
    "        <resprocessing>\n",
    "          <outcomes>\n",
    "            <decvar maxvalue=\"100\" minvalue=\"0\" varname=\"SCORE\" vartype=\"Decimal\"/>\n",
    "          </outcomes>\n",
    "          <respcondition continue=\"No\">\n",
    "            <conditionvar>\n",
    "              <or>\n",
    "                <varequal respident=\"response1\">${ ans }</varequal>\n",
    "                <and>\n",
    "                  <vargte respident=\"response1\">${ ansl }</vargte>\n",
    "                  <varlte respident=\"response1\">${ ansu }</varlte>\n",
    "                </and>\n",
    "              </or>\n",
    "            </conditionvar>\n",
    "            <setvar action=\"Set\" varname=\"SCORE\">100</setvar>\n",
    "          </respcondition>\n",
    "        </resprocessing>\n",
    "      </item>\n",
    "\"\"\"\n",
    ")\n",
    "\n"
   ]
  },
  {
   "cell_type": "code",
   "execution_count": null,
   "metadata": {
    "collapsed": false
   },
   "outputs": [],
   "source": [
    "xml_file = header\n",
    "\n",
    "for i in range (20):  #54\n",
    "  id1 = \"earthqmagnitude\"\n",
    "  id2 = \"earthqmagnitudefield\"\n",
    "  if (i<9):\n",
    "    qno = \"00\"+str(i+1)\n",
    "  elif (i<99):\n",
    "    qno = \"0\"+str(i+1)\n",
    "  elif (i<999):\n",
    "    qno = str(i+1)    \n",
    "  rendered_tpl = tpl.render(QID  = id1+qno,\n",
    "                            QNO  = qno,\n",
    "                            FID  = id2+qno,\n",
    "                            mag1 = data[i][0],\n",
    "                            mag2 = data[0][1],\n",
    "                            ans  = str(data[i][2]),\n",
    "                            ansl = str(data[i][3]),\n",
    "                            ansu = str(data[i][4]))\n",
    "  xml_file += rendered_tpl\n",
    "xml_file += footer"
   ]
  },
  {
   "cell_type": "code",
   "execution_count": null,
   "metadata": {
    "collapsed": true
   },
   "outputs": [],
   "source": [
    "filew = open('EarthqMagnitude.xml', 'w')\n",
    "filew.write(xml_file)\n",
    "filew.close()"
   ]
  },
  {
   "cell_type": "code",
   "execution_count": null,
   "metadata": {
    "collapsed": true
   },
   "outputs": [],
   "source": []
  }
 ],
 "metadata": {
  "kernelspec": {
   "display_name": "Python 2",
   "language": "python",
   "name": "python2"
  },
  "language_info": {
   "codemirror_mode": {
    "name": "ipython",
    "version": 2
   },
   "file_extension": ".py",
   "mimetype": "text/x-python",
   "name": "python",
   "nbconvert_exporter": "python",
   "pygments_lexer": "ipython2",
   "version": "2.7.6"
  }
 },
 "nbformat": 4,
 "nbformat_minor": 0
}
